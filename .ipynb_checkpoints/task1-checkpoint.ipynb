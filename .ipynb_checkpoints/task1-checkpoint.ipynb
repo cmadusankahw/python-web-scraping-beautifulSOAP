{
 "cells": [
  {
   "cell_type": "markdown",
   "metadata": {},
   "source": [
    "# Load webpages into Python through requests\n",
    "\n",
    "Reference notebook for the first task of the Web Scraping with Python and BeautifulSoup on Coursera.\n",
    "\n",
    "Instructor: Danilo Lessa Bernardineli (danilo.bernardineli@usp.br)"
   ]
  },
  {
   "cell_type": "markdown",
   "metadata": {},
   "source": [
    "## Loading page source code into Python\n",
    "\n",
    "Link: https://danlessa.github.io/bio/"
   ]
  },
  {
   "cell_type": "code",
   "execution_count": 1,
   "metadata": {},
   "outputs": [],
   "source": [
    "import requests as req"
   ]
  },
  {
   "cell_type": "code",
   "execution_count": 2,
   "metadata": {},
   "outputs": [],
   "source": [
    "URL = 'https://danlessa.github.io/bio/'"
   ]
  },
  {
   "cell_type": "code",
   "execution_count": 6,
   "metadata": {},
   "outputs": [],
   "source": [
    "r = req.get(URL)"
   ]
  },
  {
   "cell_type": "code",
   "execution_count": 23,
   "metadata": {},
   "outputs": [
    {
     "name": "stdout",
     "output_type": "stream",
     "text": [
      "b'<!DOCTYPE html> <html> <head> <meta charset=\"utf-8\"> <meta name=\"apple-mobile-web-app-capable\" content=\"yes\"> <meta http-equiv=\"X-UA-Compatible\" content=\"IE=edge\"> <meta name=\"viewport\" content=\"width=device-width, initial-scale=1\"> <title> Bio | danlessa </title> <meta name=\"description\" content=\" \"> <meta name=\"keywords\" content=\"danilo lessa bernardineli\"> <meta name=\"HandheldFriendly\" content=\"True\"> <meta name=\"MobileOptimized\" content=\"320\"> <!-- Social: Facebook / Open Graph --> <meta property=\"og:type\" content=\"article\"> <meta property=\"article:author\" content=\"Danilo Lessa Bernardineli\"> <meta property=\"article:section\" content=\"\"> <meta property=\"article:tag\" content=\"\"> <meta property=\"article:published_time\" content=\"\"> <meta property=\"og:url\" content=\"https://danlessa.github.io/bio/\"> <meta property=\"og:title\" content=\" Bio | danlessa \"> <meta property=\"og:image\" content=\"https://danlessa.github.io\"> <meta property=\"og:description\" content=\" \"> <meta property=\"og:site_name'\n"
     ]
    }
   ],
   "source": [
    "print(r.content[:1000])"
   ]
  },
  {
   "cell_type": "code",
   "execution_count": 20,
   "metadata": {},
   "outputs": [],
   "source": [
    "from bs4 import BeautifulSoup\n",
    "soup = BeautifulSoup(r.content)"
   ]
  },
  {
   "cell_type": "code",
   "execution_count": 24,
   "metadata": {},
   "outputs": [
    {
     "name": "stdout",
     "output_type": "stream",
     "text": [
      "<!DOCTYPE html>\n",
      "<html>\n",
      " <head>\n",
      "  <meta charset=\"utf-8\"/>\n",
      "  <meta content=\"yes\" name=\"apple-mobile-web-app-capable\"/>\n",
      "  <meta content=\"IE=edge\" http-equiv=\"X-UA-Compatible\"/>\n",
      "  <meta content=\"width=device-width, initial-scale=1\" name=\"viewport\"/>\n",
      "  <title>\n",
      "   Bio | danlessa\n",
      "  </title>\n",
      "  <meta content=\" \" name=\"description\"/>\n",
      "  <meta content=\"danilo lessa bernardineli\" name=\"keywords\"/>\n",
      "  <meta content=\"True\" name=\"HandheldFriendly\"/>\n",
      "  <meta content=\"320\" name=\"MobileOptimized\"/>\n",
      "  <!-- Social: Facebook / Open Graph -->\n",
      "  <meta content=\"article\" property=\"og:type\"/>\n",
      "  <meta content=\"Danilo Lessa Bernardineli\" property=\"article:author\"/>\n",
      "  <meta content=\"\" property=\"article:section\"/>\n",
      "  <meta content=\"\" property=\"article:tag\"/>\n",
      "  <meta content=\"\" property=\"article:published_time\"/>\n",
      "  <meta content=\"https://danlessa.github.io/bio/\" property=\"og:url\"/>\n",
      "  <meta content=\" Bio | danlessa \" property=\"og:title\"/>\n",
      "  <meta content=\"https://danlessa.github.io\" property=\"og:image\"/>\n",
      "  <meta content\n"
     ]
    }
   ],
   "source": [
    "print(soup.prettify()[:1000])"
   ]
  },
  {
   "cell_type": "code",
   "execution_count": null,
   "metadata": {},
   "outputs": [],
   "source": []
  }
 ],
 "metadata": {
  "kernelspec": {
   "display_name": "Python 3",
   "language": "python",
   "name": "python3"
  },
  "language_info": {
   "codemirror_mode": {
    "name": "ipython",
    "version": 3
   },
   "file_extension": ".py",
   "mimetype": "text/x-python",
   "name": "python",
   "nbconvert_exporter": "python",
   "pygments_lexer": "ipython3",
   "version": "3.7.6"
  }
 },
 "nbformat": 4,
 "nbformat_minor": 4
}
