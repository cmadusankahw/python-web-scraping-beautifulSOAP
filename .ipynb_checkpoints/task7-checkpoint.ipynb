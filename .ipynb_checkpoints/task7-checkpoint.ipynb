{
 "cells": [
  {
   "cell_type": "markdown",
   "metadata": {},
   "source": [
    "# Authenticate and mantain connections through cookies and sessions\n",
    "\n",
    "Reference notebook for the last task of the Web Scraping with Python and BeautifulSoup on Coursera.\n",
    "\n",
    "Instructor: Danilo Lessa Bernardineli (https://danlessa.github.io/)"
   ]
  },
  {
   "cell_type": "markdown",
   "metadata": {},
   "source": [
    "## Link\n",
    "\n",
    "http://testing-ground.scraping.pro/login"
   ]
  },
  {
   "cell_type": "code",
   "execution_count": 1,
   "metadata": {},
   "outputs": [],
   "source": [
    "import requests as req\n",
    "\n",
    "link = 'http://testing-ground.scraping.pro/login'"
   ]
  },
  {
   "cell_type": "code",
   "execution_count": 2,
   "metadata": {},
   "outputs": [],
   "source": [
    "from bs4 import BeautifulSoup\n",
    "\n",
    "LOGGED_SELECTOR = '#case_login > h3'\n",
    "\n",
    "def is_logged(html_source):\n",
    "    soup = BeautifulSoup(html_source)\n",
    "    elements = soup.select(LOGGED_SELECTOR)\n",
    "    if len(elements) == 1:\n",
    "        element = elements[0]\n",
    "        if 'success' in element.get('class', []):\n",
    "            return True\n",
    "        else:\n",
    "            return False\n",
    "    elif len(elements) > 1:\n",
    "        raise Exception('Something is wrong with the source')\n",
    "    else:\n",
    "        return False"
   ]
  },
  {
   "cell_type": "code",
   "execution_count": null,
   "metadata": {},
   "outputs": [],
   "source": [
    "input_data = {\"usr\" : \"admin\", \"pwd\": \"12345\"}\n",
    "\n",
    "r_post = req.post(link + \"?mode=login\", input_data)\n",
    "r_get = req.get(link + \"?mode=welcome\")\n",
    "\n",
    "is_logged(r_post.content)"
   ]
  },
  {
   "cell_type": "code",
   "execution_count": null,
   "metadata": {},
   "outputs": [],
   "source": [
    "# with session\n",
    "input_data = {\"usr\" : \"admin\", \"pwd\": \"12345\"}\n",
    "\n",
    "s = req.Session()\n",
    "\n",
    "r_post = s.post(link + \"?mode=login\", input_data)\n",
    "r_get = s.get(link + \"?mode=welcome\")\n",
    "\n",
    "is_logged(r_post.content)"
   ]
  },
  {
   "cell_type": "code",
   "execution_count": null,
   "metadata": {},
   "outputs": [],
   "source": [
    "is_logged(r_get.content)"
   ]
  }
 ],
 "metadata": {
  "kernelspec": {
   "display_name": "Python 3",
   "language": "python",
   "name": "python3"
  },
  "language_info": {
   "codemirror_mode": {
    "name": "ipython",
    "version": 3
   },
   "file_extension": ".py",
   "mimetype": "text/x-python",
   "name": "python",
   "nbconvert_exporter": "python",
   "pygments_lexer": "ipython3",
   "version": "3.8.3"
  }
 },
 "nbformat": 4,
 "nbformat_minor": 4
}
